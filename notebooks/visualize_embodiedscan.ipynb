{
 "cells": [
  {
   "cell_type": "code",
   "execution_count": null,
   "metadata": {},
   "outputs": [],
   "source": [
    "import json\n",
    "from pathlib import Path\n",
    "\n",
    "import numpy as np\n",
    "import torch\n",
    "\n",
    "try:\n",
    "    from jupythree.pointcloud import pointcloud\n",
    "except ImportError:\n",
    "    %pip install jupythree\n",
    "    from jupythree.pointcloud import pointcloud"
   ]
  },
  {
   "cell_type": "code",
   "execution_count": null,
   "metadata": {},
   "outputs": [],
   "source": [
    "DATA_DIR = Path(\"/datasets/mmscan_data/embodiedscan_split/embodiedscan-v1\")\n",
    "\n",
    "# load annotations\n",
    "with open(DATA_DIR / \"embodiedscan_train_vg_all_filtered.json\") as f:\n",
    "    anno_all = json.load(f)"
   ]
  },
  {
   "cell_type": "code",
   "execution_count": null,
   "metadata": {},
   "outputs": [],
   "source": [
    "for sample in anno_all:\n",
    "    if \"matterport3d\" in sample[\"scan_id\"]:\n",
    "        print(sample[\"scan_id\"])\n",
    "        break\n",
    "\n",
    "for sample in anno_all:\n",
    "    if \"3rscan\" in sample[\"scan_id\"]:\n",
    "        print(sample[\"scan_id\"])\n",
    "        break\n",
    "\n",
    "for sample in anno_all:\n",
    "    if \"scannet\" in sample[\"scan_id\"]:\n",
    "        print(sample[\"scan_id\"])\n",
    "        break"
   ]
  },
  {
   "cell_type": "code",
   "execution_count": null,
   "metadata": {},
   "outputs": [],
   "source": [
    "with open(\"../src/data/embodiedscan/meta_data/mp3d_mapping.json\") as f:\n",
    "    mp3d_mapping = json.load(f)"
   ]
  },
  {
   "cell_type": "code",
   "execution_count": null,
   "metadata": {},
   "outputs": [],
   "source": [
    "def visualize_sample(dataset: str, scene_id: str):\n",
    "\n",
    "    if dataset == \"matterport3d\":\n",
    "        scene, room = scene_id.split(\"_\")\n",
    "        scene_mapped = mp3d_mapping[scene]\n",
    "        scene_id = f\"{scene_mapped}_{room}\"\n",
    "\n",
    "    print(scene_id)\n",
    "\n",
    "    # load pcd\n",
    "    pcd, color, label, instance_ids = torch.load(DATA_DIR / \"process_pcd\" / f\"{scene_id}.pth\")\n",
    "    # jupythree axis\n",
    "    pcd[..., [1, 2]] = pcd[..., [2, 1]]\n",
    "\n",
    "    print(\n",
    "        f\"pcd: {pcd.shape}, color: {color.shape}, label: {label.shape}, instance_ids: {instance_ids.shape}\"\n",
    "    )\n",
    "\n",
    "    anno_scene = []\n",
    "    for sample in anno_all:\n",
    "        if dataset == \"matterport3d\":\n",
    "            if sample[\"scan_id\"] == f\"matterport3d/{scene}/{room}\":\n",
    "                anno_scene.append(sample)\n",
    "        else:\n",
    "            if sample[\"scan_id\"] == f\"{dataset}/{scene_id}\":\n",
    "                anno_scene.append(sample)\n",
    "\n",
    "    print(f\"# annotations for {scene_id}: {len(anno_scene)}\")\n",
    "\n",
    "    anno_idx = 0\n",
    "    anno = anno_scene[anno_idx]\n",
    "\n",
    "    instance_id = anno[\"target_id\"]\n",
    "    instance_id_mask = instance_ids == instance_id\n",
    "    query = anno[\"text\"]\n",
    "\n",
    "    print(f\"query: {query}\")\n",
    "\n",
    "    color_masked = color.copy()\n",
    "    color_masked[instance_id_mask] = [1, 0, 0]\n",
    "\n",
    "    return pointcloud(pcd, color=color_masked, radius=2).show(width=1000)\n",
    "\n",
    "\n",
    "def visualize_coverage(dataset: str, scene_id: str):\n",
    "    if dataset == \"matterport3d\":\n",
    "        scene, room = scene_id.split(\"_\")\n",
    "        scene_mapped = mp3d_mapping[scene]\n",
    "        scene_id = f\"{scene_mapped}_{room}\"\n",
    "\n",
    "    print(scene_id)\n",
    "\n",
    "    # load pcd\n",
    "    pcd, _, _, instance_ids = torch.load(DATA_DIR / \"process_pcd\" / f\"{scene_id}.pth\")\n",
    "    # jupythree axis\n",
    "    pcd[..., [1, 2]] = pcd[..., [2, 1]]\n",
    "\n",
    "    anno_scene = []\n",
    "    for sample in anno_all:\n",
    "        if dataset == \"matterport3d\":\n",
    "            if sample[\"scan_id\"] == f\"matterport3d/{scene}/{room}\":\n",
    "                anno_scene.append(sample)\n",
    "        else:\n",
    "            if sample[\"scan_id\"] == f\"{dataset}/{scene_id}\":\n",
    "                anno_scene.append(sample)\n",
    "\n",
    "    print(f\"# annotations for {scene_id}: {len(anno_scene)}\")\n",
    "\n",
    "    mask = np.zeros(len(pcd), dtype=bool)\n",
    "    for anno in anno_scene:\n",
    "        instance_id = anno[\"target_id\"]\n",
    "        if instance_id == -100:\n",
    "            continue\n",
    "\n",
    "        instance_id_mask = instance_ids == instance_id\n",
    "        mask[instance_id_mask] = 1\n",
    "\n",
    "    color_masked = np.zeros_like(pcd)\n",
    "    color_masked[mask == 1] = [1, 0, 0]\n",
    "\n",
    "    return pointcloud(pcd, color=color_masked, radius=2).show(width=1000)"
   ]
  },
  {
   "cell_type": "markdown",
   "metadata": {},
   "source": [
    "## ScanNet"
   ]
  },
  {
   "cell_type": "code",
   "execution_count": null,
   "metadata": {},
   "outputs": [],
   "source": [
    "# embodiedscan\n",
    "pcd, _, _, _ = torch.load(DATA_DIR / \"process_pcd\" / \"scene0000_00.pth\")\n",
    "center = pcd.mean(axis=0)\n",
    "center[2] = 0\n",
    "pcd = pcd - center\n",
    "print(len(pcd))\n",
    "\n",
    "# scannet\n",
    "coord = np.load(\"/datasets/scannet_hf/train/scene0000_00/coord.npy\")\n",
    "center2 = coord.mean(axis=0)\n",
    "center2[2] = 0\n",
    "coord = coord - center2\n",
    "print(len(coord))\n",
    "\n",
    "# concatenated\n",
    "pcd_all = np.concatenate([pcd, coord], axis=0)\n",
    "color = np.zeros_like(pcd_all)\n",
    "color[: len(pcd)] = [1, 0, 0]\n",
    "color[len(pcd) :] = [0, 1, 0]\n",
    "\n",
    "pointcloud(pcd_all, color=color, radius=2).show(width=1000)"
   ]
  },
  {
   "cell_type": "code",
   "execution_count": null,
   "metadata": {},
   "outputs": [],
   "source": [
    "# visualize_sample(\"scannet\", \"scene0000_00\")\n",
    "visualize_coverage(\"scannet\", \"scene0103_01\")"
   ]
  },
  {
   "cell_type": "markdown",
   "metadata": {},
   "source": [
    "## Matterport3D"
   ]
  },
  {
   "cell_type": "code",
   "execution_count": null,
   "metadata": {},
   "outputs": [],
   "source": [
    "visualize_sample(\"matterport3d\", \"ZMojNkEp431_region0\")\n",
    "# visualize_coverage(\"matterport3d\", \"ZMojNkEp431_region0\")"
   ]
  },
  {
   "cell_type": "markdown",
   "metadata": {},
   "source": [
    "## 3RScan"
   ]
  },
  {
   "cell_type": "code",
   "execution_count": null,
   "metadata": {},
   "outputs": [],
   "source": [
    "visualize_sample(\"3rscan\", \"fcf66d9e-622d-291c-84c2-bb23dfe31327\")"
   ]
  },
  {
   "cell_type": "code",
   "execution_count": null,
   "metadata": {},
   "outputs": [],
   "source": []
  }
 ],
 "metadata": {
  "kernelspec": {
   "display_name": "Python 3",
   "language": "python",
   "name": "python3"
  },
  "language_info": {
   "codemirror_mode": {
    "name": "ipython",
    "version": 3
   },
   "file_extension": ".py",
   "mimetype": "text/x-python",
   "name": "python",
   "nbconvert_exporter": "python",
   "pygments_lexer": "ipython3",
   "version": "3.10.12"
  }
 },
 "nbformat": 4,
 "nbformat_minor": 2
}
