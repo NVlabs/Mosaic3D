{
 "cells": [
  {
   "cell_type": "code",
   "execution_count": null,
   "metadata": {},
   "outputs": [],
   "source": [
    "import numpy as np\n",
    "import open3d as o3d"
   ]
  },
  {
   "cell_type": "code",
   "execution_count": null,
   "metadata": {},
   "outputs": [],
   "source": [
    "try:\n",
    "    from jupythree.pointcloud import pointcloud\n",
    "except ImportError:\n",
    "    !pip install jupythree\n",
    "    from jupythree.pointcloud import pointcloud"
   ]
  },
  {
   "cell_type": "code",
   "execution_count": null,
   "metadata": {},
   "outputs": [],
   "source": [
    "sample_id = \"1Ffe5jcItYmZHpb875Z3V48wsqsAAnDp9\""
   ]
  },
  {
   "cell_type": "code",
   "execution_count": null,
   "metadata": {},
   "outputs": [],
   "source": [
    "# read ply\n",
    "mesh = o3d.io.read_triangle_mesh(f\"../samples/{sample_id}/mesh.ply\")\n",
    "xyz = np.asarray(mesh.vertices)\n",
    "xyz[..., [1, 2]] = xyz[..., [2, 1]]\n",
    "rgb = np.asarray(mesh.vertex_colors)\n",
    "\n",
    "# visualize\n",
    "pointcloud(xyz, color=rgb, radius=2).show(width=1000)"
   ]
  },
  {
   "cell_type": "code",
   "execution_count": null,
   "metadata": {},
   "outputs": [],
   "source": [
    "# read ply\n",
    "pcd = o3d.io.read_point_cloud(f\"../samples/{sample_id}/pred.ply\")\n",
    "xyz = np.asarray(pcd.points)\n",
    "xyz[..., [1, 2]] = xyz[..., [2, 1]]\n",
    "rgb = np.asarray(pcd.colors)\n",
    "\n",
    "# visualize\n",
    "pointcloud(xyz, color=rgb, radius=2).show(width=1000)"
   ]
  },
  {
   "cell_type": "code",
   "execution_count": null,
   "metadata": {},
   "outputs": [],
   "source": []
  }
 ],
 "metadata": {
  "kernelspec": {
   "display_name": "Python 3",
   "language": "python",
   "name": "python3"
  },
  "language_info": {
   "codemirror_mode": {
    "name": "ipython",
    "version": 3
   },
   "file_extension": ".py",
   "mimetype": "text/x-python",
   "name": "python",
   "nbconvert_exporter": "python",
   "pygments_lexer": "ipython3",
   "version": "3.10.12"
  }
 },
 "nbformat": 4,
 "nbformat_minor": 2
}
